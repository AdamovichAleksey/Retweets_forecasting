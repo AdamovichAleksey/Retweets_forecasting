{
 "cells": [
  {
   "cell_type": "markdown",
   "metadata": {},
   "source": [
    "## Задание: Предсказать вероятность того, что твит получит более 20 ретвитов за первые 48 часов.\n",
    "\n",
    "## Ход выполнения исследования:\n",
    "1. Импорт данных\n",
    "2. Создания функции для обработки датасета и генерации новых признаков:\n",
    "    * clear_text - текс твита без url, хэштегов и \"упоминаний\"\n",
    "    * clear_text_with_tags - текс твита без url, знака # и \"упоминаний\"\n",
    "    \n",
    "    * is_reply - является ли твит ответом\n",
    "    \n",
    "    * user_reg_days - сколько дней пользователь уже зарегистрирован (отсчёт от макс. даты регистрации)\n",
    "    * count_reference - сколько \"упоминаний\" в твите\n",
    "    * count_url - сколько url в твите\n",
    "    * count_hashteg - сколько хэштегов в твите\n",
    "    \n",
    "    * user_discr_len - длина описания юзера\n",
    "    * text_len - длина твита (исходного текста)\n",
    "    * clear_text_with_tags_len - длина твита (clear_text_with_tags)\n",
    "    * clear_text_len - длина твита (clear_text)\n",
    "\n",
    "    * is_en - является ли язык пользователя английским\n",
    "    * is_claim - есть ли в твите восклицательный знак\n",
    "    * is_question - есть ли в твите вопросительный знак\n",
    "3. Создание NLP модели для предсказания вероятности твита на основе текста твита\n",
    "4. Предсказание (используя кросс-валидацию) вероятности ретвита на основе NLP модели - добавление признака nlp_prediction\n",
    "5. Создание модели Random Forest\n",
    "6. Подбор гиперпараметров с использованием Grid Search (используя кросс-валидацию)\n",
    "7. Кросс-валидация модели\n",
    "8. Определение важности признаков\n",
    "9. Построение и запись прогноза для тестового датасета"
   ]
  },
  {
   "cell_type": "code",
   "execution_count": 1,
   "metadata": {
    "collapsed": false
   },
   "outputs": [],
   "source": [
    "from __future__ import division, unicode_literals\n",
    "\n",
    "import pandas as pd\n",
    "import numpy as np\n",
    "\n",
    "from sklearn.metrics import roc_auc_score"
   ]
  },
  {
   "cell_type": "markdown",
   "metadata": {},
   "source": [
    "## 1. Импорт данных"
   ]
  },
  {
   "cell_type": "code",
   "execution_count": 2,
   "metadata": {
    "collapsed": false
   },
   "outputs": [],
   "source": [
    "train = pd.read_csv('train.csv', encoding='utf-8', lineterminator='\\n')\n",
    "test = pd.read_csv('test.csv', encoding='utf-8', lineterminator='\\n')"
   ]
  },
  {
   "cell_type": "code",
   "execution_count": 3,
   "metadata": {
    "collapsed": false
   },
   "outputs": [
    {
     "data": {
      "text/html": [
       "<div>\n",
       "<table border=\"1\" class=\"dataframe\">\n",
       "  <thead>\n",
       "    <tr style=\"text-align: right;\">\n",
       "      <th></th>\n",
       "      <th>id</th>\n",
       "      <th>text</th>\n",
       "      <th>in_reply_to_user_id</th>\n",
       "      <th>user.id</th>\n",
       "      <th>user.name</th>\n",
       "      <th>user.screen_name</th>\n",
       "      <th>user.description</th>\n",
       "      <th>user.location</th>\n",
       "      <th>user.lang</th>\n",
       "      <th>user.time_zone</th>\n",
       "      <th>user.utc_offset</th>\n",
       "      <th>user.statuses_count</th>\n",
       "      <th>user.followers_count</th>\n",
       "      <th>user.friends_count</th>\n",
       "      <th>user.favourites_count</th>\n",
       "      <th>user.created_at</th>\n",
       "      <th>user.geo_enabled</th>\n",
       "      <th>user.is_translation_enabled</th>\n",
       "      <th>user.listed_count</th>\n",
       "      <th>retweet_count</th>\n",
       "    </tr>\n",
       "  </thead>\n",
       "  <tbody>\n",
       "    <tr>\n",
       "      <th>0</th>\n",
       "      <td>629692043326062592</td>\n",
       "      <td>Me and ma fwends 🍎 http://t.co/B3YJ31hZuc</td>\n",
       "      <td>0.0</td>\n",
       "      <td>133840449</td>\n",
       "      <td>Paul C. wilson</td>\n",
       "      <td>xcaptainpaulx</td>\n",
       "      <td>Guitarist for @chunknocaptainc // Founder @off...</td>\n",
       "      <td>NaN</td>\n",
       "      <td>fr</td>\n",
       "      <td>Paris</td>\n",
       "      <td>7200.0</td>\n",
       "      <td>1606</td>\n",
       "      <td>9164</td>\n",
       "      <td>205</td>\n",
       "      <td>758</td>\n",
       "      <td>Fri Apr 16 19:33:58 +0000 2010</td>\n",
       "      <td>True</td>\n",
       "      <td>False</td>\n",
       "      <td>27</td>\n",
       "      <td>12</td>\n",
       "    </tr>\n",
       "    <tr>\n",
       "      <th>1</th>\n",
       "      <td>629692041362968576</td>\n",
       "      <td>@SinedioMD @AspyrMedia Try this link https://t...</td>\n",
       "      <td>7629232.0</td>\n",
       "      <td>21245956</td>\n",
       "      <td>Direct2Drive.com</td>\n",
       "      <td>Direct2Drive</td>\n",
       "      <td>D2D has an ever-expanding library of downloada...</td>\n",
       "      <td>California, USA</td>\n",
       "      <td>en</td>\n",
       "      <td>Pacific Time (US &amp; Canada)</td>\n",
       "      <td>-25200.0</td>\n",
       "      <td>3004</td>\n",
       "      <td>7484</td>\n",
       "      <td>708</td>\n",
       "      <td>44</td>\n",
       "      <td>Wed Feb 18 21:58:04 +0000 2009</td>\n",
       "      <td>False</td>\n",
       "      <td>False</td>\n",
       "      <td>330</td>\n",
       "      <td>0</td>\n",
       "    </tr>\n",
       "  </tbody>\n",
       "</table>\n",
       "</div>"
      ],
      "text/plain": [
       "                   id                                               text  \\\n",
       "0  629692043326062592          Me and ma fwends 🍎 http://t.co/B3YJ31hZuc   \n",
       "1  629692041362968576  @SinedioMD @AspyrMedia Try this link https://t...   \n",
       "\n",
       "   in_reply_to_user_id    user.id         user.name user.screen_name  \\\n",
       "0                  0.0  133840449    Paul C. wilson    xcaptainpaulx   \n",
       "1            7629232.0   21245956  Direct2Drive.com     Direct2Drive   \n",
       "\n",
       "                                    user.description    user.location  \\\n",
       "0  Guitarist for @chunknocaptainc // Founder @off...              NaN   \n",
       "1  D2D has an ever-expanding library of downloada...  California, USA   \n",
       "\n",
       "  user.lang              user.time_zone  user.utc_offset  user.statuses_count  \\\n",
       "0        fr                       Paris           7200.0                 1606   \n",
       "1        en  Pacific Time (US & Canada)         -25200.0                 3004   \n",
       "\n",
       "   user.followers_count  user.friends_count  user.favourites_count  \\\n",
       "0                  9164                 205                    758   \n",
       "1                  7484                 708                     44   \n",
       "\n",
       "                  user.created_at user.geo_enabled  \\\n",
       "0  Fri Apr 16 19:33:58 +0000 2010             True   \n",
       "1  Wed Feb 18 21:58:04 +0000 2009            False   \n",
       "\n",
       "  user.is_translation_enabled  user.listed_count  retweet_count  \n",
       "0                       False                 27             12  \n",
       "1                       False                330              0  "
      ]
     },
     "execution_count": 3,
     "metadata": {},
     "output_type": "execute_result"
    }
   ],
   "source": [
    "train.head(2)"
   ]
  },
  {
   "cell_type": "code",
   "execution_count": 4,
   "metadata": {
    "collapsed": false
   },
   "outputs": [],
   "source": [
    "assert(all(train.columns[:-1] == test.columns))\n",
    "assert(train.columns[-1] == 'retweet_count')"
   ]
  },
  {
   "cell_type": "markdown",
   "metadata": {},
   "source": [
    "## Описание данных"
   ]
  },
  {
   "cell_type": "code",
   "execution_count": 5,
   "metadata": {
    "collapsed": false
   },
   "outputs": [
    {
     "name": "stdout",
     "output_type": "stream",
     "text": [
      "<class 'pandas.core.frame.DataFrame'>\n",
      "RangeIndex: 67211 entries, 0 to 67210\n",
      "Data columns (total 21 columns):\n",
      "id                             67211 non-null int64\n",
      "text                           67211 non-null object\n",
      "in_reply_to_user_id            67211 non-null float64\n",
      "user.id                        67211 non-null int64\n",
      "user.name                      67211 non-null object\n",
      "user.screen_name               67211 non-null object\n",
      "user.description               66906 non-null object\n",
      "user.location                  55676 non-null object\n",
      "user.lang                      67211 non-null object\n",
      "user.time_zone                 67211 non-null object\n",
      "user.utc_offset                67211 non-null float64\n",
      "user.statuses_count            67211 non-null int64\n",
      "user.followers_count           67211 non-null int64\n",
      "user.friends_count             67211 non-null int64\n",
      "user.favourites_count          67211 non-null int64\n",
      "user.created_at                67211 non-null object\n",
      "user.geo_enabled               67211 non-null bool\n",
      "user.is_translation_enabled    67211 non-null bool\n",
      "user.listed_count              67211 non-null int64\n",
      "retweet_count                  67211 non-null int64\n",
      "label                          67211 non-null bool\n",
      "dtypes: bool(3), float64(2), int64(8), object(8)\n",
      "memory usage: 9.4+ MB\n"
     ]
    }
   ],
   "source": [
    "train['label'] = train['retweet_count'] > 20\n",
    "train.info()"
   ]
  },
  {
   "cell_type": "markdown",
   "metadata": {},
   "source": [
    "Колонки являются урезанным набором полей объекта-сообщения, предоставляемого Twitter API: https://dev.twitter.com/overview/api/tweets."
   ]
  },
  {
   "cell_type": "markdown",
   "metadata": {},
   "source": [
    "## 2. Создания функции для обработки датасета и генерации новых признаков:"
   ]
  },
  {
   "cell_type": "code",
   "execution_count": 6,
   "metadata": {
    "collapsed": false
   },
   "outputs": [],
   "source": [
    "import re\n",
    "\n",
    "def prepare_df(df):\n",
    "    \n",
    "    # удалим идентификаторы юзера, в связи с условиями задачи\n",
    "    df.drop(['user.name', 'user.id', 'user.screen_name'] , axis = 1, inplace = True)\n",
    "    # удалим time_zone, т.к. признак utc_offset лучше описывает сущность\n",
    "    df.drop('user.time_zone', axis = 1, inplace = True)\n",
    "    # удалим location из-за большого кол-ва категорий (в том числе с близкой частотой)\n",
    "    df.drop('user.location', axis = 1, inplace = True)\n",
    "    # переведём время создания пользователя в datetime\n",
    "    df['user.created_at'] = pd.to_datetime(df['user.created_at'],format = '%a %b %d %X +0000 %Y')\n",
    "    # переведём user.utc_offset в часы\n",
    "    df['user.utc_offset'] = (df['user.utc_offset'] / 3600).astype('int')\n",
    "    # добавим признак является ли твит ответом\n",
    "    df['is_reply'] = df['in_reply_to_user_id'] != 0\n",
    "    df.drop('in_reply_to_user_id', axis = 1, inplace = True)\n",
    "    # добавим признак является ли язык пользователя английским (как само часто встречающийся)\n",
    "    df['user.lang'] = df['user.lang'].str.slice(stop = 2)\n",
    "    df['is_en'] = df['user.lang'] == 'en'\n",
    "    df.drop('user.lang', axis = 1, inplace = True)\n",
    "    \n",
    "    # функция для удаления хэштегов, \"упоминаний\", ссылок\n",
    "    def clear_text(post):\n",
    "        post = re.sub(\"(@.\\w+|#.\\w+|(?:https?|ftp):\\/\\/[\\n\\S]+)\", '', post)\n",
    "        post = post.strip() #trim\n",
    "        post = post.lstrip() #ltrim\n",
    "        post = post.rstrip() #rtrim\n",
    "        return post\n",
    "    # функция для удаления \"упоминаний\", ссылок и знаков \"#\"\n",
    "    def clear_text_with_tags(post):\n",
    "        post = re.sub(\"(@.\\w+|#|(?:https?|ftp):\\/\\/[\\n\\S]+)\", '', post)\n",
    "        post = post.strip() #trim\n",
    "        post = post.lstrip() #ltrim\n",
    "        post = post.rstrip() #rtrim\n",
    "        return post\n",
    "    # функция для подсчёта  хэштегов\n",
    "    def count_hashteg(post):\n",
    "        return len(re.findall(r'#.\\w+', post))\n",
    "    # функция для подсчёта  \"обрашений\"\n",
    "    def count_reference(post):\n",
    "        return len(re.findall(r'@.\\w+', post))\n",
    "    # функция для подсчёта  ссылок\n",
    "    def count_url(post):\n",
    "        return len(re.findall(r'(?:https?|ftp):\\/\\/[\\n\\S]+', post))\n",
    "    # функция для поиска знаков вопросов\n",
    "    def is_question(post):\n",
    "        if post.count('?') > 0:\n",
    "            return True\n",
    "        else:\n",
    "            return False\n",
    "    # функция для поиска восклицательных знаков\n",
    "    def is_claim(post):\n",
    "        if post.count('!') > 0:\n",
    "            return True\n",
    "        else:\n",
    "            return False\n",
    "        \n",
    "    # применим написанные функции к тексту постов\n",
    "    functions = [clear_text, clear_text_with_tags, count_hashteg, count_reference, count_url, is_question, is_claim]\n",
    "    for fun in functions:\n",
    "        df[fun.__name__] = df['text'].apply(fun)\n",
    "        \n",
    "    # длина поста\n",
    "    df['text_len'] = df['text'].apply(lambda x: len(x))\n",
    "    df['clear_text_len'] = df['clear_text'].apply(lambda x: len(x))\n",
    "    df['clear_text_with_tags_len'] = df['clear_text_with_tags'].apply(lambda x: len(x))    \n",
    "    # длина описания юзера\n",
    "    df['user.description'].fillna('', inplace = True)\n",
    "    df['user_discr_len'] = df['user.description'].apply(lambda x: len(x))\n",
    "    # сколько дней пользователь уже зарегистрирован (по сравнению с самым недавно зарегистрированным)\n",
    "    df['user_reg_days'] = df['user.created_at'].max() - df['user.created_at']\n",
    "    df['user_reg_days'] = (df['user_reg_days'].apply(lambda x: x.total_seconds()/(60*60*24))).astype('int')\n",
    "    # удалим неиспользуемые столбцы и установим индекс\n",
    "    df.drop(['user.created_at', 'clear_text','text', 'user.description'], axis = 1, inplace = True)\n",
    "    df.set_index('id', inplace = True)\n",
    "    \n",
    "    return df"
   ]
  },
  {
   "cell_type": "markdown",
   "metadata": {},
   "source": [
    "## Обработка train и test датасетов"
   ]
  },
  {
   "cell_type": "code",
   "execution_count": 7,
   "metadata": {
    "collapsed": false
   },
   "outputs": [],
   "source": [
    "train = prepare_df(train)\n",
    "test = prepare_df(test)"
   ]
  },
  {
   "cell_type": "code",
   "execution_count": 8,
   "metadata": {
    "collapsed": false
   },
   "outputs": [
    {
     "data": {
      "text/html": [
       "<div>\n",
       "<table border=\"1\" class=\"dataframe\">\n",
       "  <thead>\n",
       "    <tr style=\"text-align: right;\">\n",
       "      <th></th>\n",
       "      <th>user.utc_offset</th>\n",
       "      <th>user.statuses_count</th>\n",
       "      <th>user.followers_count</th>\n",
       "      <th>user.friends_count</th>\n",
       "      <th>user.favourites_count</th>\n",
       "      <th>user.geo_enabled</th>\n",
       "      <th>user.is_translation_enabled</th>\n",
       "      <th>user.listed_count</th>\n",
       "      <th>retweet_count</th>\n",
       "      <th>label</th>\n",
       "      <th>is_reply</th>\n",
       "    </tr>\n",
       "    <tr>\n",
       "      <th>id</th>\n",
       "      <th></th>\n",
       "      <th></th>\n",
       "      <th></th>\n",
       "      <th></th>\n",
       "      <th></th>\n",
       "      <th></th>\n",
       "      <th></th>\n",
       "      <th></th>\n",
       "      <th></th>\n",
       "      <th></th>\n",
       "      <th></th>\n",
       "    </tr>\n",
       "  </thead>\n",
       "  <tbody>\n",
       "    <tr>\n",
       "      <th>629692043326062592</th>\n",
       "      <td>2</td>\n",
       "      <td>1606</td>\n",
       "      <td>9164</td>\n",
       "      <td>205</td>\n",
       "      <td>758</td>\n",
       "      <td>True</td>\n",
       "      <td>False</td>\n",
       "      <td>27</td>\n",
       "      <td>12</td>\n",
       "      <td>False</td>\n",
       "      <td>False</td>\n",
       "    </tr>\n",
       "    <tr>\n",
       "      <th>629692041362968576</th>\n",
       "      <td>-7</td>\n",
       "      <td>3004</td>\n",
       "      <td>7484</td>\n",
       "      <td>708</td>\n",
       "      <td>44</td>\n",
       "      <td>False</td>\n",
       "      <td>False</td>\n",
       "      <td>330</td>\n",
       "      <td>0</td>\n",
       "      <td>False</td>\n",
       "      <td>True</td>\n",
       "    </tr>\n",
       "  </tbody>\n",
       "</table>\n",
       "</div>"
      ],
      "text/plain": [
       "                    user.utc_offset  user.statuses_count  \\\n",
       "id                                                         \n",
       "629692043326062592                2                 1606   \n",
       "629692041362968576               -7                 3004   \n",
       "\n",
       "                    user.followers_count  user.friends_count  \\\n",
       "id                                                             \n",
       "629692043326062592                  9164                 205   \n",
       "629692041362968576                  7484                 708   \n",
       "\n",
       "                    user.favourites_count user.geo_enabled  \\\n",
       "id                                                           \n",
       "629692043326062592                    758             True   \n",
       "629692041362968576                     44            False   \n",
       "\n",
       "                   user.is_translation_enabled  user.listed_count  \\\n",
       "id                                                                  \n",
       "629692043326062592                       False                 27   \n",
       "629692041362968576                       False                330   \n",
       "\n",
       "                    retweet_count  label is_reply  \n",
       "id                                                 \n",
       "629692043326062592             12  False    False  \n",
       "629692041362968576              0  False     True  "
      ]
     },
     "execution_count": 8,
     "metadata": {},
     "output_type": "execute_result"
    }
   ],
   "source": [
    "train.iloc[:2, :11].head(2)"
   ]
  },
  {
   "cell_type": "code",
   "execution_count": 9,
   "metadata": {
    "collapsed": false
   },
   "outputs": [
    {
     "data": {
      "text/html": [
       "<div>\n",
       "<table border=\"1\" class=\"dataframe\">\n",
       "  <thead>\n",
       "    <tr style=\"text-align: right;\">\n",
       "      <th></th>\n",
       "      <th>is_en</th>\n",
       "      <th>clear_text_with_tags</th>\n",
       "      <th>count_hashteg</th>\n",
       "      <th>count_reference</th>\n",
       "      <th>count_url</th>\n",
       "      <th>is_question</th>\n",
       "      <th>is_claim</th>\n",
       "      <th>text_len</th>\n",
       "      <th>clear_text_len</th>\n",
       "      <th>clear_text_with_tags_len</th>\n",
       "      <th>user_discr_len</th>\n",
       "      <th>user_reg_days</th>\n",
       "    </tr>\n",
       "    <tr>\n",
       "      <th>id</th>\n",
       "      <th></th>\n",
       "      <th></th>\n",
       "      <th></th>\n",
       "      <th></th>\n",
       "      <th></th>\n",
       "      <th></th>\n",
       "      <th></th>\n",
       "      <th></th>\n",
       "      <th></th>\n",
       "      <th></th>\n",
       "      <th></th>\n",
       "      <th></th>\n",
       "    </tr>\n",
       "  </thead>\n",
       "  <tbody>\n",
       "    <tr>\n",
       "      <th>629692043326062592</th>\n",
       "      <td>False</td>\n",
       "      <td>Me and ma fwends 🍎</td>\n",
       "      <td>0</td>\n",
       "      <td>0</td>\n",
       "      <td>1</td>\n",
       "      <td>False</td>\n",
       "      <td>False</td>\n",
       "      <td>41</td>\n",
       "      <td>18</td>\n",
       "      <td>18</td>\n",
       "      <td>82</td>\n",
       "      <td>1934</td>\n",
       "    </tr>\n",
       "    <tr>\n",
       "      <th>629692041362968576</th>\n",
       "      <td>True</td>\n",
       "      <td>Try this link</td>\n",
       "      <td>0</td>\n",
       "      <td>2</td>\n",
       "      <td>1</td>\n",
       "      <td>False</td>\n",
       "      <td>False</td>\n",
       "      <td>61</td>\n",
       "      <td>13</td>\n",
       "      <td>13</td>\n",
       "      <td>124</td>\n",
       "      <td>2356</td>\n",
       "    </tr>\n",
       "  </tbody>\n",
       "</table>\n",
       "</div>"
      ],
      "text/plain": [
       "                    is_en clear_text_with_tags  count_hashteg  \\\n",
       "id                                                              \n",
       "629692043326062592  False   Me and ma fwends 🍎              0   \n",
       "629692041362968576   True        Try this link              0   \n",
       "\n",
       "                    count_reference  count_url is_question is_claim  text_len  \\\n",
       "id                                                                              \n",
       "629692043326062592                0          1       False    False        41   \n",
       "629692041362968576                2          1       False    False        61   \n",
       "\n",
       "                    clear_text_len  clear_text_with_tags_len  user_discr_len  \\\n",
       "id                                                                             \n",
       "629692043326062592              18                        18              82   \n",
       "629692041362968576              13                        13             124   \n",
       "\n",
       "                    user_reg_days  \n",
       "id                                 \n",
       "629692043326062592           1934  \n",
       "629692041362968576           2356  "
      ]
     },
     "execution_count": 9,
     "metadata": {},
     "output_type": "execute_result"
    }
   ],
   "source": [
    "train.iloc[:2, 11:].head(2)"
   ]
  },
  {
   "cell_type": "markdown",
   "metadata": {},
   "source": [
    "## 3. Создание NLP модели для предсказания вероятности твита на основе текста твита"
   ]
  },
  {
   "cell_type": "code",
   "execution_count": 10,
   "metadata": {
    "collapsed": true
   },
   "outputs": [],
   "source": [
    "import nltk\n",
    "import gensim\n",
    "\n",
    "tokenizer = nltk.tokenize.TreebankWordTokenizer()\n",
    "\n",
    "from nltk.stem.snowball import EnglishStemmer\n",
    "stemmer = EnglishStemmer()"
   ]
  },
  {
   "cell_type": "code",
   "execution_count": 11,
   "metadata": {
    "collapsed": true
   },
   "outputs": [],
   "source": [
    "corpora = [train['clear_text_with_tags'][id] for id in train.index]"
   ]
  },
  {
   "cell_type": "code",
   "execution_count": 12,
   "metadata": {
    "collapsed": true
   },
   "outputs": [],
   "source": [
    "target = [train['label'][id] for id in train.index]"
   ]
  },
  {
   "cell_type": "code",
   "execution_count": 13,
   "metadata": {
    "collapsed": false
   },
   "outputs": [
    {
     "name": "stderr",
     "output_type": "stream",
     "text": [
      "100%|██████████| 67211/67211 [00:12<00:00, 5392.93it/s] | 505/67211 [00:00<00:13, 5043.43it/s]\n",
      "100%|██████████| 67211/67211 [00:17<00:00, 3897.81it/s]\n"
     ]
    }
   ],
   "source": [
    "from tqdm import tqdm\n",
    "corpora_tokenzied = []\n",
    "for doc in tqdm(corpora):\n",
    "    corpora_tokenzied.append(tokenizer.tokenize(doc.lower()))\n",
    "    \n",
    "corpora_stemmed = []\n",
    "\n",
    "for doc in tqdm(corpora_tokenzied):\n",
    "    stemmed_doc = [stemmer.stem(token) for token in doc]\n",
    "    corpora_stemmed.append(stemmed_doc)\n",
    "\n",
    "dictionary = gensim.corpora.Dictionary(corpora_stemmed)\n",
    "corpora_bow = [dictionary.doc2bow(doc) for doc in corpora_stemmed]"
   ]
  },
  {
   "cell_type": "code",
   "execution_count": 14,
   "metadata": {
    "collapsed": true
   },
   "outputs": [],
   "source": [
    "tfidf = gensim.models.TfidfModel(corpora_bow)\n",
    "corpora_tfidf = tfidf[corpora_bow]"
   ]
  },
  {
   "cell_type": "code",
   "execution_count": 15,
   "metadata": {
    "collapsed": false
   },
   "outputs": [
    {
     "name": "stderr",
     "output_type": "stream",
     "text": [
      "100%|██████████| 67211/67211 [01:15<00:00, 888.59it/s]  | 69/67211 [00:00<01:38, 680.77it/s]\n"
     ]
    }
   ],
   "source": [
    "from scipy.sparse import csc_matrix\n",
    "\n",
    "data = []\n",
    "col = []\n",
    "row = []\n",
    "for i in tqdm(range(len(corpora_tfidf))):\n",
    "    for j in range(len(corpora_tfidf[i])):\n",
    "        data.append(corpora_tfidf[i][j][1])\n",
    "        col.append(corpora_tfidf[i][j][0])\n",
    "        row.append(i)"
   ]
  },
  {
   "cell_type": "code",
   "execution_count": 16,
   "metadata": {
    "collapsed": true
   },
   "outputs": [],
   "source": [
    "matrix = csc_matrix((data, (row, col)), shape=(len(corpora_tfidf), len(dictionary)))"
   ]
  },
  {
   "cell_type": "markdown",
   "metadata": {},
   "source": [
    "## 4. Предсказание (используя кросс-валидацию) вероятности ретвита на основе NLP модели - добавление признака nlp_prediction"
   ]
  },
  {
   "cell_type": "code",
   "execution_count": 17,
   "metadata": {
    "collapsed": false
   },
   "outputs": [
    {
     "name": "stderr",
     "output_type": "stream",
     "text": [
      "/home/adam/anaconda3/lib/python3.5/site-packages/sklearn/cross_validation.py:44: DeprecationWarning: This module was deprecated in version 0.18 in favor of the model_selection module into which all the refactored classes and functions are moved. Also note that the interface of the new CV iterators are different from that of this module. This module will be removed in 0.20.\n",
      "  \"This module will be removed in 0.20.\", DeprecationWarning)\n"
     ]
    },
    {
     "name": "stdout",
     "output_type": "stream",
     "text": [
      "0.737818295325\n",
      "[ 0.70649573  0.72863835  0.76862728  0.74931678  0.73601334]\n"
     ]
    }
   ],
   "source": [
    "from sklearn.cross_validation import cross_val_score\n",
    "from sklearn.cross_validation import cross_val_predict\n",
    "from sklearn.cross_validation import KFold\n",
    "from sklearn.metrics import roc_auc_score\n",
    "from sklearn.linear_model import LogisticRegression\n",
    "\n",
    "clsf = LogisticRegression(class_weight = 'balanced')\n",
    "\n",
    "kf = KFold(matrix.shape[0], n_folds=5, random_state=1)\n",
    "\n",
    "nlp_auc = cross_val_score(clsf, matrix, target, cv=kf, scoring='roc_auc')\n",
    "print(np.mean(nlp_auc))\n",
    "print(nlp_auc)\n",
    "\n",
    "predictions = cross_val_predict(clsf, matrix, target)\n",
    "train['nlp_prediction'] = predictions"
   ]
  },
  {
   "cell_type": "markdown",
   "metadata": {},
   "source": [
    "## Классификатор на всём train"
   ]
  },
  {
   "cell_type": "code",
   "execution_count": 18,
   "metadata": {
    "collapsed": true
   },
   "outputs": [],
   "source": [
    "classifier = LogisticRegression(class_weight = 'balanced')\n",
    "classifier.fit(matrix, target)\n",
    "\n",
    "def classify(text):\n",
    "    tokens = [stemmer.stem(token) for token in tokenizer.tokenize(text.lower())]\n",
    "    bow = dictionary.doc2bow(tokens)\n",
    "    tfidf_vec = tfidf[bow]\n",
    "    data = []\n",
    "    col = []\n",
    "    row = []\n",
    "    for token in tfidf_vec:\n",
    "        data.append(token[1])\n",
    "        col.append(token[0])\n",
    "        row.append(0)\n",
    "    matrix_1 = csc_matrix((data, (row, col)), shape=(1, len(dictionary)))\n",
    "    return(classifier.predict_proba(matrix_1)[0][1])"
   ]
  },
  {
   "cell_type": "markdown",
   "metadata": {},
   "source": [
    "## Такой твит скорее всего репостнут"
   ]
  },
  {
   "cell_type": "code",
   "execution_count": 19,
   "metadata": {
    "collapsed": false
   },
   "outputs": [
    {
     "data": {
      "text/plain": [
       "0.89752748081149392"
      ]
     },
     "execution_count": 19,
     "metadata": {},
     "output_type": "execute_result"
    }
   ],
   "source": [
    "classify(\"Obama sing a New Year song\")"
   ]
  },
  {
   "cell_type": "code",
   "execution_count": 20,
   "metadata": {
    "collapsed": false
   },
   "outputs": [
    {
     "data": {
      "text/plain": [
       "0.91470163657395531"
      ]
     },
     "execution_count": 20,
     "metadata": {},
     "output_type": "execute_result"
    }
   ],
   "source": [
    "classify(\"A new war begin\")"
   ]
  },
  {
   "cell_type": "markdown",
   "metadata": {},
   "source": [
    "## А такой нет"
   ]
  },
  {
   "cell_type": "code",
   "execution_count": 21,
   "metadata": {
    "collapsed": false
   },
   "outputs": [
    {
     "data": {
      "text/plain": [
       "0.1209713593909261"
      ]
     },
     "execution_count": 21,
     "metadata": {},
     "output_type": "execute_result"
    }
   ],
   "source": [
    "classify(\"the weather is fine\")"
   ]
  },
  {
   "cell_type": "code",
   "execution_count": 22,
   "metadata": {
    "collapsed": false
   },
   "outputs": [
    {
     "data": {
      "text/plain": [
       "0.24312015201766238"
      ]
     },
     "execution_count": 22,
     "metadata": {},
     "output_type": "execute_result"
    }
   ],
   "source": [
    "classify(\"I am home\")"
   ]
  },
  {
   "cell_type": "markdown",
   "metadata": {},
   "source": [
    "## 5. Создание модели Random Forest"
   ]
  },
  {
   "cell_type": "code",
   "execution_count": 23,
   "metadata": {
    "collapsed": false
   },
   "outputs": [
    {
     "data": {
      "text/plain": [
       "array(['user.utc_offset', 'user.statuses_count', 'user.followers_count',\n",
       "       'user.friends_count', 'user.favourites_count', 'user.geo_enabled',\n",
       "       'user.is_translation_enabled', 'user.listed_count', 'retweet_count',\n",
       "       'label', 'is_reply', 'is_en', 'clear_text_with_tags',\n",
       "       'count_hashteg', 'count_reference', 'count_url', 'is_question',\n",
       "       'is_claim', 'text_len', 'clear_text_len',\n",
       "       'clear_text_with_tags_len', 'user_discr_len', 'user_reg_days',\n",
       "       'nlp_prediction'], dtype=object)"
      ]
     },
     "execution_count": 23,
     "metadata": {},
     "output_type": "execute_result"
    }
   ],
   "source": [
    "train.columns.values"
   ]
  },
  {
   "cell_type": "code",
   "execution_count": 24,
   "metadata": {
    "collapsed": true
   },
   "outputs": [],
   "source": [
    "import warnings\n",
    "warnings.filterwarnings('ignore')\n",
    "\n",
    "from sklearn.ensemble import RandomForestClassifier\n",
    "\n",
    "from sklearn.cross_validation import cross_val_score\n",
    "from sklearn.cross_validation import cross_val_predict\n",
    "from sklearn.cross_validation import KFold"
   ]
  },
  {
   "cell_type": "code",
   "execution_count": 25,
   "metadata": {
    "collapsed": true
   },
   "outputs": [],
   "source": [
    "features = ['user.utc_offset', 'user.statuses_count', 'user.followers_count',\n",
    "            'user.friends_count', 'user.favourites_count', 'user.geo_enabled',\n",
    "            'user.is_translation_enabled', 'user.listed_count','is_reply', 'is_en',\n",
    "            'count_hashteg', 'count_reference', 'count_url', 'is_question',\n",
    "            'is_claim', 'text_len', 'clear_text_len', 'clear_text_with_tags_len',\n",
    "            'user_discr_len', 'user_reg_days','nlp_prediction']\n",
    "\n",
    "target = ['label']\n",
    "#target = ['retweet_count']"
   ]
  },
  {
   "cell_type": "code",
   "execution_count": 26,
   "metadata": {
    "collapsed": true
   },
   "outputs": [],
   "source": [
    "model = RandomForestClassifier(n_estimators = 10, random_state = 1)\n",
    "\n",
    "kf = KFold(len(train), n_folds=5, random_state=1)"
   ]
  },
  {
   "cell_type": "markdown",
   "metadata": {},
   "source": [
    "## 6. Подбор гиперпараметров с использованием Grid Search (используя кросс-валидацию)"
   ]
  },
  {
   "cell_type": "code",
   "execution_count": 27,
   "metadata": {
    "collapsed": true
   },
   "outputs": [],
   "source": [
    "from sklearn import cross_validation, grid_search, metrics"
   ]
  },
  {
   "cell_type": "code",
   "execution_count": 28,
   "metadata": {
    "collapsed": false
   },
   "outputs": [],
   "source": [
    "parameters_grid = {\n",
    "    'max_features' : np.arange(5,len(features)),\n",
    "    'max_depth' : np.arange(3,7,1),\n",
    "    'min_samples_split' : np.arange(5,30,1),\n",
    "    'min_samples_leaf' : np.arange(3,10,1),\n",
    "    'class_weight' : ['balanced']\n",
    "}"
   ]
  },
  {
   "cell_type": "code",
   "execution_count": 29,
   "metadata": {
    "collapsed": true
   },
   "outputs": [],
   "source": [
    "randomized_grid_cv = grid_search.RandomizedSearchCV(model, parameters_grid, scoring = 'roc_auc', cv = kf,\n",
    "                                                    n_iter = 100, random_state = 0)"
   ]
  },
  {
   "cell_type": "code",
   "execution_count": 30,
   "metadata": {
    "collapsed": false
   },
   "outputs": [
    {
     "name": "stdout",
     "output_type": "stream",
     "text": [
      "CPU times: user 8min 44s, sys: 3.08 s, total: 8min 48s\n",
      "Wall time: 8min 49s\n"
     ]
    },
    {
     "data": {
      "text/plain": [
       "RandomizedSearchCV(cv=sklearn.cross_validation.KFold(n=67211, n_folds=5, shuffle=False, random_state=1),\n",
       "          error_score='raise',\n",
       "          estimator=RandomForestClassifier(bootstrap=True, class_weight=None, criterion='gini',\n",
       "            max_depth=None, max_features='auto', max_leaf_nodes=None,\n",
       "            min_impurity_split=1e-07, min_samples_leaf=1,\n",
       "            min_samples_split=2, min_weight_fraction_leaf=0.0,\n",
       "            n_estimators=10, n_jobs=1, oob_score=False, random_state=1,\n",
       "            verbose=0, warm_start=False),\n",
       "          fit_params={}, iid=True, n_iter=100, n_jobs=1,\n",
       "          param_distributions={'min_samples_leaf': array([3, 4, 5, 6, 7, 8, 9]), 'max_features': array([ 5,  6,  7,  8,  9, 10, 11, 12, 13, 14, 15, 16, 17, 18, 19, 20]), 'class_weight': ['balanced'], 'max_depth': array([3, 4, 5, 6]), 'min_samples_split': array([ 5,  6,  7,  8,  9, 10, 11, 12, 13, 14, 15, 16, 17, 18, 19, 20, 21,\n",
       "       22, 23, 24, 25, 26, 27, 28, 29])},\n",
       "          pre_dispatch='2*n_jobs', random_state=0, refit=True,\n",
       "          scoring='roc_auc', verbose=0)"
      ]
     },
     "execution_count": 30,
     "metadata": {},
     "output_type": "execute_result"
    }
   ],
   "source": [
    "%%time\n",
    "randomized_grid_cv.fit(train[features], train[target])"
   ]
  },
  {
   "cell_type": "code",
   "execution_count": 31,
   "metadata": {
    "collapsed": false
   },
   "outputs": [
    {
     "data": {
      "text/plain": [
       "RandomForestClassifier(bootstrap=True, class_weight='balanced',\n",
       "            criterion='gini', max_depth=6, max_features=13,\n",
       "            max_leaf_nodes=None, min_impurity_split=1e-07,\n",
       "            min_samples_leaf=6, min_samples_split=23,\n",
       "            min_weight_fraction_leaf=0.0, n_estimators=10, n_jobs=1,\n",
       "            oob_score=False, random_state=1, verbose=0, warm_start=False)"
      ]
     },
     "execution_count": 31,
     "metadata": {},
     "output_type": "execute_result"
    }
   ],
   "source": [
    "randomized_grid_cv.best_estimator_"
   ]
  },
  {
   "cell_type": "code",
   "execution_count": 32,
   "metadata": {
    "collapsed": false
   },
   "outputs": [
    {
     "name": "stdout",
     "output_type": "stream",
     "text": [
      "0.9188069614901425\n",
      "{'class_weight': 'balanced', 'min_samples_leaf': 6, 'min_samples_split': 23, 'max_features': 13, 'max_depth': 6}\n"
     ]
    }
   ],
   "source": [
    "print(randomized_grid_cv.best_score_)\n",
    "print(randomized_grid_cv.best_params_)"
   ]
  },
  {
   "cell_type": "markdown",
   "metadata": {},
   "source": [
    "## Модель с подобранными гиперпараметрами (и увеличинным n_estimators = 200)"
   ]
  },
  {
   "cell_type": "code",
   "execution_count": 33,
   "metadata": {
    "collapsed": true
   },
   "outputs": [],
   "source": [
    "model = RandomForestClassifier(n_estimators = 200, max_features = 13, class_weight = 'balanced', min_samples_split = 23,\n",
    "                               max_depth = 6, min_samples_leaf = 6, random_state = 1)"
   ]
  },
  {
   "cell_type": "code",
   "execution_count": 34,
   "metadata": {
    "collapsed": false
   },
   "outputs": [
    {
     "name": "stdout",
     "output_type": "stream",
     "text": [
      "0.931321179682\n"
     ]
    }
   ],
   "source": [
    "model.fit(train[features], train[target])\n",
    "proba = model.predict_proba(train[features])\n",
    "print(roc_auc_score(train[target], proba[:,1]))"
   ]
  },
  {
   "cell_type": "markdown",
   "metadata": {},
   "source": [
    "## 7. Кросс-валидация модели"
   ]
  },
  {
   "cell_type": "code",
   "execution_count": 35,
   "metadata": {
    "collapsed": false
   },
   "outputs": [
    {
     "name": "stdout",
     "output_type": "stream",
     "text": [
      "0.919870358855\n",
      "[ 0.91422048  0.91389477  0.92544073  0.92665222  0.9191436 ]\n"
     ]
    }
   ],
   "source": [
    "cross_auc = cross_val_score(model, train[features], train[target], cv=kf, scoring='roc_auc')\n",
    "print(np.mean(cross_auc))\n",
    "print(cross_auc)"
   ]
  },
  {
   "cell_type": "markdown",
   "metadata": {},
   "source": [
    "## 8. Определение важности признаков"
   ]
  },
  {
   "cell_type": "code",
   "execution_count": 36,
   "metadata": {
    "collapsed": false
   },
   "outputs": [
    {
     "name": "stdout",
     "output_type": "stream",
     "text": [
      "Feature ranking:\n",
      "\n",
      "feature  user.followers_count (0.420719)\n",
      "feature  is_reply (0.263027)\n",
      "feature  user.listed_count (0.155592)\n",
      "feature  user.statuses_count (0.066235)\n",
      "feature  user_reg_days (0.023423)\n",
      "feature  count_reference (0.021346)\n",
      "feature  nlp_prediction (0.011733)\n",
      "feature  user.favourites_count (0.008051)\n",
      "feature  count_url (0.006430)\n",
      "feature  user.is_translation_enabled (0.004755)\n",
      "feature  user.friends_count (0.004254)\n",
      "feature  user_discr_len (0.004241)\n",
      "feature  text_len (0.002740)\n",
      "feature  clear_text_with_tags_len (0.002052)\n",
      "feature  clear_text_len (0.001918)\n",
      "feature  user.utc_offset (0.001801)\n",
      "feature  count_hashteg (0.000716)\n",
      "feature  is_en (0.000560)\n",
      "feature  user.geo_enabled (0.000205)\n",
      "feature  is_claim (0.000135)\n",
      "feature  is_question (0.000066)\n"
     ]
    }
   ],
   "source": [
    "importances = model.feature_importances_\n",
    "std = np.std([model.feature_importances_ for tree in model.estimators_],\n",
    "             axis=0)\n",
    "indices = np.argsort(importances)[::-1]\n",
    "indices = indices.tolist()\n",
    "\n",
    "# Print the feature ranking\n",
    "print(\"Feature ranking:\\n\")\n",
    "\n",
    "for f in indices:\n",
    "    print(\"feature \", features[f], \"(%f)\" % (importances[f]))"
   ]
  },
  {
   "cell_type": "markdown",
   "metadata": {},
   "source": [
    "## 9. Построение и запись прогноза для тестового датасета"
   ]
  },
  {
   "cell_type": "code",
   "execution_count": 37,
   "metadata": {
    "collapsed": false
   },
   "outputs": [],
   "source": [
    "test['nlp_prediction'] = test['clear_text_with_tags'].apply(classify)"
   ]
  },
  {
   "cell_type": "markdown",
   "metadata": {},
   "source": [
    "Строим новый прогноз и обновляем вероятности того, что ретвитов больше 20."
   ]
  },
  {
   "cell_type": "code",
   "execution_count": 38,
   "metadata": {
    "collapsed": false
   },
   "outputs": [
    {
     "data": {
      "text/html": [
       "<div>\n",
       "<table border=\"1\" class=\"dataframe\">\n",
       "  <thead>\n",
       "    <tr style=\"text-align: right;\">\n",
       "      <th></th>\n",
       "      <th>probability</th>\n",
       "    </tr>\n",
       "    <tr>\n",
       "      <th>id</th>\n",
       "      <th></th>\n",
       "    </tr>\n",
       "  </thead>\n",
       "  <tbody>\n",
       "    <tr>\n",
       "      <th>629692042952765440</th>\n",
       "      <td>0.012906</td>\n",
       "    </tr>\n",
       "    <tr>\n",
       "      <th>629692042717855745</th>\n",
       "      <td>0.013750</td>\n",
       "    </tr>\n",
       "    <tr>\n",
       "      <th>629692039974813696</th>\n",
       "      <td>0.012951</td>\n",
       "    </tr>\n",
       "    <tr>\n",
       "      <th>629692038242566145</th>\n",
       "      <td>0.988021</td>\n",
       "    </tr>\n",
       "    <tr>\n",
       "      <th>629692036879413248</th>\n",
       "      <td>0.016566</td>\n",
       "    </tr>\n",
       "  </tbody>\n",
       "</table>\n",
       "</div>"
      ],
      "text/plain": [
       "                    probability\n",
       "id                             \n",
       "629692042952765440     0.012906\n",
       "629692042717855745     0.013750\n",
       "629692039974813696     0.012951\n",
       "629692038242566145     0.988021\n",
       "629692036879413248     0.016566"
      ]
     },
     "execution_count": 38,
     "metadata": {},
     "output_type": "execute_result"
    }
   ],
   "source": [
    "proba = model.predict_proba(test[features])\n",
    "test['probability'] = proba[:,1]\n",
    "\n",
    "prediction = pd.DataFrame(test['probability'])\n",
    "prediction.head()"
   ]
  },
  {
   "cell_type": "markdown",
   "metadata": {},
   "source": [
    "Записываем полученный результат в файл **prediction.csv**."
   ]
  },
  {
   "cell_type": "code",
   "execution_count": 39,
   "metadata": {
    "collapsed": false
   },
   "outputs": [],
   "source": [
    "prediction.to_csv('prediction.csv')"
   ]
  }
 ],
 "metadata": {
  "anaconda-cloud": {},
  "kernelspec": {
   "display_name": "Python [conda root]",
   "language": "python",
   "name": "conda-root-py"
  },
  "language_info": {
   "codemirror_mode": {
    "name": "ipython",
    "version": 3
   },
   "file_extension": ".py",
   "mimetype": "text/x-python",
   "name": "python",
   "nbconvert_exporter": "python",
   "pygments_lexer": "ipython3",
   "version": "3.5.2"
  }
 },
 "nbformat": 4,
 "nbformat_minor": 0
}
